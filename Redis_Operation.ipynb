{
 "cells": [
  {
   "cell_type": "markdown",
   "metadata": {},
   "source": [
    "## Import necessary modules"
   ]
  },
  {
   "cell_type": "code",
   "execution_count": null,
   "metadata": {},
   "outputs": [],
   "source": [
    "import redis, json, sys, os, logging\n",
    "import numpy as np\n",
    "from openai import OpenAI\n",
    "import openai\n",
    "import pandas as pd\n",
    "from dotenv import load_dotenv\n",
    "from redis.commands.search.indexDefinition import IndexDefinition, IndexType\n",
    "from redis.commands.search.query import Query\n",
    "from redis.commands.search.field import TextField, VectorField\n",
    "from typing import List\n",
    "from sshtunnel import SSHTunnelForwarder"
   ]
  },
  {
   "cell_type": "code",
   "execution_count": 2,
   "metadata": {},
   "outputs": [
    {
     "name": "stdout",
     "output_type": "stream",
     "text": [
      "OPENAI_API_KEY is ready\n"
     ]
    }
   ],
   "source": [
    "# Note. alternatively you can set a temporary env variable like this:\n",
    "os.environ[\"OPENAI_API_KEY\"] = ''\n",
    "\n",
    "if os.getenv(\"OPENAI_API_KEY\") is not None:\n",
    "    openai.api_key = os.getenv(\"OPENAI_API_KEY\")\n",
    "    print (\"OPENAI_API_KEY is ready\")\n",
    "else:\n",
    "    print (\"OPENAI_API_KEY environment variable not found\")"
   ]
  },
  {
   "cell_type": "code",
   "execution_count": null,
   "metadata": {},
   "outputs": [],
   "source": []
  },
  {
   "cell_type": "markdown",
   "metadata": {},
   "source": [
    "### Server Connection"
   ]
  },
  {
   "cell_type": "code",
   "execution_count": 3,
   "metadata": {},
   "outputs": [
    {
     "data": {
      "text/plain": [
       "True"
      ]
     },
     "execution_count": 3,
     "metadata": {},
     "output_type": "execute_result"
    }
   ],
   "source": [
    "## Direct Connection\n",
    "REDIS_HOST = \"\"\n",
    "REDIS_PORT = 6379\n",
    "REDIS_PASSWORD = \"\"  # default for passwordless Redis\n",
    "\n",
    "# Connect to Redis\n",
    "redis_client = redis.Redis(host=REDIS_HOST, port=REDIS_PORT, password=REDIS_PASSWORD)\n",
    "redis_client.ping()"
   ]
  },
  {
   "cell_type": "code",
   "execution_count": 10,
   "metadata": {},
   "outputs": [],
   "source": [
    "redis_client.close()"
   ]
  },
  {
   "cell_type": "code",
   "execution_count": 11,
   "metadata": {},
   "outputs": [],
   "source": [
    "from sshtunnel import SSHTunnelForwarder"
   ]
  },
  {
   "cell_type": "code",
   "execution_count": 12,
   "metadata": {},
   "outputs": [
    {
     "name": "stdout",
     "output_type": "stream",
     "text": [
      "SSH tunnel established\n"
     ]
    }
   ],
   "source": [
    "# SSH server configuration\n",
    "ssh_host = ''\n",
    "ssh_username = ''\n",
    "ssh_private_key = ''\n",
    "\n",
    "# Redis server configuration on the remote\n",
    "remote_host = ''\n",
    "remote_port = 6379\n",
    "\n",
    "# Local port to forward to\n",
    "local_port = 6379\n",
    "\n",
    "# Setting up the SSH tunnel\n",
    "server = SSHTunnelForwarder(\n",
    "    ssh_address_or_host=(ssh_host, 22),  # Port 22 is the default SSH port\n",
    "    ssh_username=ssh_username,\n",
    "    ssh_private_key=ssh_private_key,\n",
    "    remote_bind_address=(remote_host, remote_port),\n",
    "    local_bind_address=('', local_port)\n",
    ")\n",
    "\n",
    "server.start()\n",
    "print(\"SSH tunnel established\")"
   ]
  },
  {
   "cell_type": "code",
   "execution_count": 13,
   "metadata": {},
   "outputs": [
    {
     "data": {
      "text/plain": [
       "True"
      ]
     },
     "execution_count": 13,
     "metadata": {},
     "output_type": "execute_result"
    }
   ],
   "source": [
    "client_dev = redis.Redis(host='', port=local_port, decode_responses=True)\n",
    "client_dev.ping()"
   ]
  },
  {
   "cell_type": "code",
   "execution_count": 15,
   "metadata": {},
   "outputs": [],
   "source": [
    "client_dev.close()"
   ]
  },
  {
   "cell_type": "code",
   "execution_count": 16,
   "metadata": {},
   "outputs": [],
   "source": [
    "server.stop()"
   ]
  },
  {
   "cell_type": "markdown",
   "metadata": {},
   "source": [
    "### Redis Functions"
   ]
  },
  {
   "cell_type": "code",
   "execution_count": 60,
   "metadata": {},
   "outputs": [
    {
     "name": "stdout",
     "output_type": "stream",
     "text": [
      "Index and associated data have been deleted.\n"
     ]
    }
   ],
   "source": [
    "try:\n",
    "    redis_client.ft(\"\").dropindex(delete_documents=False)\n",
    "    print(\"Index and associated data have been deleted.\")\n",
    "except Exception as e:\n",
    "    print(f\"An error occurred: {e}\")"
   ]
  },
  {
   "cell_type": "code",
   "execution_count": null,
   "metadata": {},
   "outputs": [],
   "source": [
    "client_dev = redis.Redis(encoding='latin-1', decode_responses=True)\n",
    "\n",
    "# Search for documents\n",
    "search_results = client_dev.execute_command('FT.SEARCH', '', '@:\"\"', 'LIMIT', 0, 1000)\n",
    "\n",
    "# Extract document IDs from search results\n",
    "document_ids = [search_results[i] for i in range(1, len(search_results), 2)]\n",
    "\n",
    "for doc_id in document_ids:\n",
    "    client_dev.execute_command('FT.DEL', 'index', doc_id)"
   ]
  },
  {
   "cell_type": "code",
   "execution_count": null,
   "metadata": {},
   "outputs": [],
   "source": [
    "redis_client = redis.Redis(encoding='latin-1', decode_responses=True)\n",
    "\n",
    "# Search for documents\n",
    "search_results = redis_client.execute_command('FT.SEARCH', 'index', '@:\"\"', 'LIMIT', 0, 1000)"
   ]
  },
  {
   "cell_type": "markdown",
   "metadata": {},
   "source": [
    "### keyword-index"
   ]
  },
  {
   "cell_type": "code",
   "execution_count": 3,
   "metadata": {},
   "outputs": [],
   "source": [
    "def document_embedding(document):\n",
    "    client = OpenAI(api_key=\"\")\n",
    "    text = client.embeddings.create(input = [str(document)], model=\"text-embedding-3-small\") \n",
    "    return text.data[0].embedding\n",
    "\n",
    "test_name = \"Detoxification Support\"\n",
    "test_emb = document_embedding(test_name)"
   ]
  },
  {
   "cell_type": "code",
   "execution_count": 45,
   "metadata": {},
   "outputs": [],
   "source": [
    "# Constants\n",
    "VECTOR_DIM = len(test_emb)  # length of the vectors\n",
    "VECTOR_NUMBER = 10000 # initial number of vectors\n",
    "INDEX_NAME = \"index\"  # name of the search index\n",
    "PREFIX = \"\"  # prefix for the document keys\n",
    "DISTANCE_METRIC = \"COSINE\"  # distance metric for the vectors (ex. COSINE, IP, L2)"
   ]
  },
  {
   "cell_type": "code",
   "execution_count": 46,
   "metadata": {},
   "outputs": [],
   "source": [
    "# Define RediSearch fields for each of the columns in the dataset\n",
    "category = TextField(name=\"category\")\n",
    "tag_name = TextField(name=\"tag_name\")\n",
    "keyword_id = TextField(name=\"keyword_id\")\n",
    "explanation = TextField(name=\"explanation\")\n",
    "ingredients = TextField(name=\"ingredients\")\n",
    "title_vector = VectorField(\n",
    "    \"title_vector\",\n",
    "    \"FLAT\",\n",
    "    {\n",
    "        \"TYPE\": \"FLOAT32\",\n",
    "        \"DIM\": VECTOR_DIM,\n",
    "        \"DISTANCE_METRIC\": DISTANCE_METRIC,\n",
    "        \"INITIAL_CAP\": VECTOR_NUMBER,\n",
    "    },\n",
    ")\n",
    "content_vector = VectorField(\n",
    "    \"content_vector\",\n",
    "    \"FLAT\",\n",
    "    {\n",
    "        \"TYPE\": \"FLOAT32\",\n",
    "        \"DIM\": VECTOR_DIM,\n",
    "        \"DISTANCE_METRIC\": DISTANCE_METRIC,\n",
    "        \"INITIAL_CAP\": VECTOR_NUMBER,\n",
    "    },\n",
    ")\n",
    "\n",
    "fields = [category, tag_name, keyword_id, explanation, ingredients, title_vector, content_vector]"
   ]
  },
  {
   "cell_type": "code",
   "execution_count": 47,
   "metadata": {},
   "outputs": [],
   "source": [
    "# Check if index exists\n",
    "try:\n",
    "    client_dev.ft(INDEX_NAME).info()\n",
    "    print(\"Index already exists\")\n",
    "except:\n",
    "    # Create RediSearch Index\n",
    "    client_dev.ft(INDEX_NAME).create_index(\n",
    "        fields=fields,\n",
    "        definition=IndexDefinition(prefix=[PREFIX], index_type=IndexType.HASH),\n",
    "    )"
   ]
  },
  {
   "cell_type": "code",
   "execution_count": 48,
   "metadata": {},
   "outputs": [],
   "source": [
    "def index_documents(client, prefix, documents):\n",
    "    # records = documents.to_dict(\"records\")\n",
    "    for doc in documents:\n",
    "        key = f\"{prefix}:{str(doc['keyword_id'])}\"\n",
    "\n",
    "        # create byte vectors for title and content\n",
    "        title_embedding = np.array(doc[\"title_vector\"], dtype=np.float32).tobytes()\n",
    "        content_embedding = np.array(doc[\"content_vector\"], dtype=np.float32).tobytes()\n",
    "\n",
    "        # replace list of floats with byte vectors\n",
    "        doc[\"title_vector\"] = title_embedding\n",
    "        doc[\"content_vector\"] = content_embedding\n",
    "\n",
    "        client.hset(key, mapping=doc)"
   ]
  },
  {
   "cell_type": "code",
   "execution_count": 8,
   "metadata": {},
   "outputs": [],
   "source": [
    "def search_redis(\n",
    "    client_dev: redis.Redis,\n",
    "    user_query: str,\n",
    "    index_name: str = \"index\",\n",
    "    vector_field: str = \"title_vector\",\n",
    "    return_fields: list = [ \"tag_name\", \"vector_score\"],\n",
    "    hybrid_fields = \"*\",\n",
    "    k: int = 5,\n",
    "    print_results: bool = True,\n",
    ") -> List[dict]:\n",
    "\n",
    "    # Creates embedding vector from user query\n",
    "    client = openai.OpenAI(\n",
    "    api_key=os.environ.get(\"OPENAI_API_KEY\") #os.getenv(\"OPENAI_API_KEY\")\n",
    ")\n",
    "    embedded_query = client.embeddings.create(input=user_query,\n",
    "                                            model=\"text-embedding-3-small\",\n",
    "                                            ).data[0].embedding\n",
    "\n",
    "    # Prepare the Query\n",
    "    base_query = f'{hybrid_fields}=>[KNN {k} @{vector_field} $vector AS vector_score]'\n",
    "    query = (\n",
    "        Query(base_query)\n",
    "         .return_fields(*return_fields)\n",
    "         .sort_by(\"vector_score\")\n",
    "         .paging(0, k)\n",
    "         .dialect(2)\n",
    "    )\n",
    "    params_dict = {\"vector\": np.array(embedded_query).astype(dtype=np.float32).tobytes()}\n",
    "    \n",
    "    # perform vector search\n",
    "    results = client_dev.ft(index_name).search(query, params_dict)\n",
    "    # print(results)\n",
    "    if print_results:\n",
    "        for i, article in enumerate(results.docs):\n",
    "            score = 1 - float(article.vector_score)\n",
    "            print(f\"{i}. {article.} (Score: {round(score ,3) })\")\n",
    "    return results.docs"
   ]
  },
  {
   "cell_type": "code",
   "execution_count": 16,
   "metadata": {},
   "outputs": [
    {
     "name": "stdout",
     "output_type": "stream",
     "text": [
      "0. 283357 (Score: 0.454)\n",
      "1. 293465 (Score: 0.446)\n",
      "2. 270078 (Score: 0.445)\n",
      "3. 295147 (Score: 0.443)\n",
      "4. 286378 (Score: 0.441)\n"
     ]
    }
   ],
   "source": [
    "results = search_redis(\n",
    "    client_dev,\n",
    "    \"\",\n",
    "    k=5,\n",
    "    index_name=\"index\",\n",
    "    vector_field=\"content_vector\",\n",
    "    return_fields=[\"source\", \"document_id\", \"vector_score\"],\n",
    "    # hybrid_fields=create_hybrid_field(\"name\", \"Extract\"),\n",
    ")"
   ]
  },
  {
   "cell_type": "code",
   "execution_count": null,
   "metadata": {},
   "outputs": [],
   "source": []
  },
  {
   "cell_type": "markdown",
   "metadata": {},
   "source": [
    "### Testing Data"
   ]
  },
  {
   "cell_type": "code",
   "execution_count": 2,
   "metadata": {},
   "outputs": [],
   "source": [
    "import json\n",
    "import pandas as pd\n",
    "\n",
    "def load_pqa(file_name,number_rows=1000):\n",
    "    qa_list = []\n",
    "    df = pd.DataFrame(columns=('question', 'answer'))\n",
    "    with open(file_name) as f:\n",
    "        i=0\n",
    "        for line in f:\n",
    "            data = json.loads(line)\n",
    "            df.loc[i] = [data['questionText'],data['answers'][0]['answerText']]\n",
    "            i+=1\n",
    "            if(i == number_rows):\n",
    "                break\n",
    "    return df\n",
    "\n",
    "\n",
    "qa_list = load_pqa('test-qar_all.jsonl',number_rows=1000)"
   ]
  },
  {
   "cell_type": "code",
   "execution_count": 4,
   "metadata": {},
   "outputs": [
    {
     "data": {
      "text/html": [
       "<div>\n",
       "<style scoped>\n",
       "    .dataframe tbody tr th:only-of-type {\n",
       "        vertical-align: middle;\n",
       "    }\n",
       "\n",
       "    .dataframe tbody tr th {\n",
       "        vertical-align: top;\n",
       "    }\n",
       "\n",
       "    .dataframe thead th {\n",
       "        text-align: right;\n",
       "    }\n",
       "</style>\n",
       "<table border=\"1\" class=\"dataframe\">\n",
       "  <thead>\n",
       "    <tr style=\"text-align: right;\">\n",
       "      <th></th>\n",
       "      <th>question</th>\n",
       "      <th>answer</th>\n",
       "    </tr>\n",
       "  </thead>\n",
       "  <tbody>\n",
       "    <tr>\n",
       "      <th>0</th>\n",
       "      <td># of caloriesfor 1 cand yginger ?</td>\n",
       "      <td>Hi...Melissa.  Each Natural Ginger Tummy Drops...</td>\n",
       "    </tr>\n",
       "    <tr>\n",
       "      <th>1</th>\n",
       "      <td>is the kotobukiya superman a resin statue?</td>\n",
       "      <td>I am unsure I do not see specifics</td>\n",
       "    </tr>\n",
       "    <tr>\n",
       "      <th>2</th>\n",
       "      <td>Does it have word ?</td>\n",
       "      <td>It has Office 4.0.1</td>\n",
       "    </tr>\n",
       "    <tr>\n",
       "      <th>3</th>\n",
       "      <td>Is this the 2012 version with the mounted boar...</td>\n",
       "      <td>I bought this in 2013 so I assume so. It's ver...</td>\n",
       "    </tr>\n",
       "    <tr>\n",
       "      <th>4</th>\n",
       "      <td>I have a Maine Coon, (beautiful) a shelter cat...</td>\n",
       "      <td>Does she try to\"fish\" things out?  You could p...</td>\n",
       "    </tr>\n",
       "  </tbody>\n",
       "</table>\n",
       "</div>"
      ],
      "text/plain": [
       "                                            question  \\\n",
       "0                  # of caloriesfor 1 cand yginger ?   \n",
       "1         is the kotobukiya superman a resin statue?   \n",
       "2                                Does it have word ?   \n",
       "3  Is this the 2012 version with the mounted boar...   \n",
       "4  I have a Maine Coon, (beautiful) a shelter cat...   \n",
       "\n",
       "                                              answer  \n",
       "0  Hi...Melissa.  Each Natural Ginger Tummy Drops...  \n",
       "1                 I am unsure I do not see specifics  \n",
       "2                                It has Office 4.0.1  \n",
       "3  I bought this in 2013 so I assume so. It's ver...  \n",
       "4  Does she try to\"fish\" things out?  You could p...  "
      ]
     },
     "execution_count": 4,
     "metadata": {},
     "output_type": "execute_result"
    }
   ],
   "source": [
    "qa_list.head()"
   ]
  },
  {
   "cell_type": "code",
   "execution_count": 5,
   "metadata": {},
   "outputs": [],
   "source": [
    "NUMBER_PRODUCTS=100\n",
    "product_metadata = qa_list.head(NUMBER_PRODUCTS).to_dict(orient='index')"
   ]
  },
  {
   "cell_type": "code",
   "execution_count": 6,
   "metadata": {},
   "outputs": [],
   "source": [
    "# Creates embedding vector from user query\n",
    "def emb(user_query):\n",
    "    client = openai.OpenAI(\n",
    "        api_key=os.environ.get(\"OPENAI_API_KEY\") #os.getenv(\"OPENAI_API_KEY\")\n",
    "    )\n",
    "    embedded_query = client.embeddings.create(input=user_query,\n",
    "                                            model=\"text-embedding-3-small\",\n",
    "                                            ).data[0].embedding\n",
    "    return embedded_query"
   ]
  },
  {
   "cell_type": "code",
   "execution_count": 10,
   "metadata": {},
   "outputs": [],
   "source": [
    "item_keywords =  [product_metadata[i]['question']  for i in product_metadata.keys()]\n",
    "item_keywords_vectors = [emb(sentence) for sentence in item_keywords]"
   ]
  },
  {
   "cell_type": "code",
   "execution_count": 22,
   "metadata": {},
   "outputs": [],
   "source": [
    "def load_vectors(client, qa_list, vector_dict, vector_field_name):\n",
    "    for index in product_metadata.keys():    \n",
    "        # Hash key\n",
    "        key = 'product:' + str(index)\n",
    "        \n",
    "        # Hash values\n",
    "        item_metadata = product_metadata[index]\n",
    "        item_keywords_vector = np.array(vector_dict[index], dtype=np.float32).tobytes()\n",
    "        item_metadata[vector_field_name] = item_keywords_vector\n",
    "        \n",
    "        # HSET\n",
    "        client.hset(key, mapping=item_metadata)"
   ]
  },
  {
   "cell_type": "code",
   "execution_count": 13,
   "metadata": {},
   "outputs": [],
   "source": [
    "def create_hnsw_index (create_hnsw_index,vector_field_name,number_of_vectors, vector_dimensions=len(item_keywords_vectors[0]), distance_metric='L2',M=40,EF=200):\n",
    "    client_dev.ft(INDEX_NAME).create_index([\n",
    "        VectorField(\"question_vector\", \"HNSW\", {\"TYPE\": \"FLOAT32\", \"DIM\": vector_dimensions, \"DISTANCE_METRIC\": distance_metric, \"INITIAL_CAP\": number_of_vectors, \"M\": M, }),\n",
    "        TextField(\"question\"),        \n",
    "        TextField(\"answer\"),\n",
    "          \n",
    "    ])    "
   ]
  },
  {
   "cell_type": "code",
   "execution_count": 15,
   "metadata": {},
   "outputs": [],
   "source": [
    "INDEX_NAME='indx:pqa_vss'\n",
    "NUMBER_PRODUCTS=100\n",
    "ITEM_KEYWORD_EMBEDDING_FIELD='question_vector'"
   ]
  },
  {
   "cell_type": "code",
   "execution_count": 20,
   "metadata": {},
   "outputs": [],
   "source": [
    "create_hnsw_index(client_dev,INDEX_NAME,NUMBER_PRODUCTS)"
   ]
  },
  {
   "cell_type": "code",
   "execution_count": 23,
   "metadata": {},
   "outputs": [
    {
     "name": "stdout",
     "output_type": "stream",
     "text": [
      "Loading and Indexing + 100 products\n"
     ]
    }
   ],
   "source": [
    "INDEX_NAME='indx:pqa_vss'\n",
    "ITEM_KEYWORD_EMBEDDING_FIELD='question_vector'\n",
    "TEXT_EMBEDDING_DIMENSION=len(item_keywords_vectors[0])\n",
    "NUMBER_PRODUCTS=100\n",
    "\n",
    "print ('Loading and Indexing + ' +  str(NUMBER_PRODUCTS) + ' products')\n",
    "\n",
    "#flush all data\n",
    "#client_devo.flushall()\n",
    "\n",
    "load_vectors(client_dev,product_metadata,item_keywords_vectors,ITEM_KEYWORD_EMBEDDING_FIELD)"
   ]
  },
  {
   "cell_type": "code",
   "execution_count": 24,
   "metadata": {},
   "outputs": [
    {
     "name": "stdout",
     "output_type": "stream",
     "text": [
      "100 documents (11408192 space used vectors indexed 100 vector space usage in 11356030\n"
     ]
    }
   ],
   "source": [
    "info = client_dev.ft(INDEX_NAME).info()\n",
    "num_docs = info['num_docs']\n",
    "space_usage = info['space_usage']\n",
    "num_indexed_vectors = info['num_indexed_vectors']\n",
    "vector_space_usage = (info['vector_space_usage'])\n",
    "\n",
    "print(f\"{num_docs} documents ({space_usage} space used vectors indexed {num_indexed_vectors} vector space usage in {vector_space_usage}\")"
   ]
  },
  {
   "cell_type": "code",
   "execution_count": 25,
   "metadata": {},
   "outputs": [],
   "source": [
    "results = client_dev.ft(INDEX_NAME).search('*')"
   ]
  },
  {
   "cell_type": "code",
   "execution_count": 27,
   "metadata": {},
   "outputs": [
    {
     "data": {
      "text/plain": [
       "[Document {'id': 'product:0', 'payload': None, 'answer': \"Hi...Melissa.  Each Natural Ginger Tummy Drops has 10 calories and if you are a diabetic...3 carbs. It's directions say to take a maximum of 8 pieces a day. Remember this is not like eating hard candy, it is a supplement.  So it also says keep away from children so they don't confuse it with hard candy.  I used two while flying partly cause my mouth was dry and I wanted assurance I wouldn't get sick, all I did was let it melt in my mouth.  I drink diet Ginger ale all the time, yet I hate gingerbread cookies, gingersnap type, these did not have a strong flavor to them. I don't know if I mentioned I went on a short cruise, which the crew said it was the roughest the seas had been in 6 months, I ended up giving some to two employees because they were getting seasick and they helped them too.Hope I answered enough for you, if not ask anything about them, I will answer again.  Thanks.  Pat\", 'question': '# of caloriesfor 1 cand yginger ?'},\n",
       " Document {'id': 'product:5', 'payload': None, 'answer': 'Interestingly, I still have my box: 8\"x18\"x42\"', 'question': 'what dimensions are the G3 WO3000 shipping container ?'},\n",
       " Document {'id': 'product:6', 'payload': None, 'answer': 'it seems to be a good product.i like it.it makes a good lather,stays moist,has a nice smell and lasts a long time.i have tried different kinds of shave soap,this is a better one.i have not found the best yet!', 'question': 'Has this product been recently reformulated? The one I have from a few years back does not mention oatmeal extract.'},\n",
       " Document {'id': 'product:7', 'payload': None, 'answer': 'It is pure peppermint oil  and the smell is not too strong.  I mixed mine with water.  1 part oil to 10 parts water, put in a spray bottle to spray for repeling mice.', 'question': 'this will be my first time ordering from your company.  Is this really pure peppermint oil and most important is the smell strong peppermint o'},\n",
       " Document {'id': 'product:4', 'payload': None, 'answer': 'Does she try to\"fish\" things out?  You could probably set up a test and see, maybe put a treat into a cup? Mine will fish things out horizontally but there is some vertical fishing or maneuvering in this maze and mine (and one has claws) don\\'t seem to get the reaching thru the top holes and maneuvering the treat to where they can fish it out sideways part.  Maine coons are so cool!', 'question': 'I have a Maine Coon, (beautiful) a shelter cat that is declawed.  Could she maneuver this?'},\n",
       " Document {'id': 'product:3', 'payload': None, 'answer': \"I bought this in 2013 so I assume so. It's very thick stock like you find on most quality board games. If you're saying it was a mat or something before, it's definitely not that. No complaints about the board.\", 'question': 'Is this the 2012 version with the mounted board?  Thanks much'},\n",
       " Document {'id': 'product:2', 'payload': None, 'answer': 'It has Office 4.0.1', 'question': 'Does it have word ?'},\n",
       " Document {'id': 'product:1', 'payload': None, 'answer': 'I am unsure I do not see specifics', 'question': 'is the kotobukiya superman a resin statue?'},\n",
       " Document {'id': 'product:8', 'payload': None, 'answer': 'Yes it does. It does not copy in color though (since it only prints black and white).', 'question': 'does it scan in color'},\n",
       " Document {'id': 'product:14', 'payload': None, 'answer': \"If it works with Windows 7 it should also with Vista. It's an inexpensive piece of hardware; it's worth a try.\", 'question': 'Is it compitable with WWindows Vista?'}]"
      ]
     },
     "execution_count": 27,
     "metadata": {},
     "output_type": "execute_result"
    }
   ],
   "source": [
    "results.docs"
   ]
  },
  {
   "cell_type": "code",
   "execution_count": 29,
   "metadata": {},
   "outputs": [],
   "source": [
    "topK=5\n",
    "user_query='Does this work with xbox'\n",
    "#vectorize the query\n",
    "query_vector = np.array(emb(user_query), dtype=np.float32).tobytes()"
   ]
  },
  {
   "cell_type": "code",
   "execution_count": 31,
   "metadata": {},
   "outputs": [
    {
     "name": "stdout",
     "output_type": "stream",
     "text": [
      "***************Product  found ************\n",
      "hash key = product:62\n",
      "question = does it work with the xbox one console?\n",
      "answer = No it says it specifically on the xbox adapter page on xbox.com that it does not work with the xbox one.\n",
      "***************Product  found ************\n",
      "hash key = product:52\n",
      "question = Does This Work With Time Warner Internet. I needit for Netflix Hulu & Amazon movies\n",
      "answer = Don't know about time warner I have charter but I don't see how they make a better one them this it great\n",
      "***************Product  found ************\n",
      "hash key = product:46\n",
      "question = does it work with sony mini dvds\n",
      "answer = Yes\n",
      "***************Product  found ************\n",
      "hash key = product:73\n",
      "question = Will this work on my 2013 GMC 3500HD Duramax diesel crew cab???\n",
      "answer = I have no idea. The tech support guys at 800-998-6880 are very helpful and will steer you in the right direction.\n",
      "***************Product  found ************\n",
      "hash key = product:14\n",
      "question = Is it compitable with WWindows Vista?\n",
      "answer = If it works with Windows 7 it should also with Vista. It's an inexpensive piece of hardware; it's worth a try.\n"
     ]
    }
   ],
   "source": [
    "#Print similar products and questions found\n",
    "for product in results.docs:\n",
    "    print ('***************Product  found ************')\n",
    "    print ('hash key = '  + product.id)\n",
    "    print ( 'question = '  + product.question)\n",
    "    print ('answer = ' + product.answer)"
   ]
  },
  {
   "cell_type": "code",
   "execution_count": 32,
   "metadata": {},
   "outputs": [
    {
     "data": {
      "text/plain": [
       "Result{5 total, docs: [Document {'id': 'product:62', 'payload': None, 'question': 'does it work with the xbox one console?', 'answer': 'No it says it specifically on the xbox adapter page on xbox.com that it does not work with the xbox one.'}, Document {'id': 'product:52', 'payload': None, 'question': 'Does This Work With Time Warner Internet. I needit for Netflix Hulu & Amazon movies', 'answer': \"Don't know about time warner I have charter but I don't see how they make a better one them this it great\"}, Document {'id': 'product:46', 'payload': None, 'question': 'does it work with sony mini dvds', 'answer': 'Yes'}, Document {'id': 'product:73', 'payload': None, 'question': 'Will this work on my 2013 GMC 3500HD Duramax diesel crew cab???', 'answer': 'I have no idea. The tech support guys at 800-998-6880 are very helpful and will steer you in the right direction.'}, Document {'id': 'product:14', 'payload': None, 'question': 'Is it compitable with WWindows Vista?', 'answer': \"If it works with Windows 7 it should also with Vista. It's an inexpensive piece of hardware; it's worth a try.\"}]}"
      ]
     },
     "execution_count": 32,
     "metadata": {},
     "output_type": "execute_result"
    }
   ],
   "source": [
    "results"
   ]
  },
  {
   "cell_type": "code",
   "execution_count": null,
   "metadata": {},
   "outputs": [],
   "source": []
  }
 ],
 "metadata": {
  "kernelspec": {
   "display_name": "test_ds-Ll123JkW",
   "language": "python",
   "name": "python3"
  },
  "language_info": {
   "codemirror_mode": {
    "name": "ipython",
    "version": 3
   },
   "file_extension": ".py",
   "mimetype": "text/x-python",
   "name": "python",
   "nbconvert_exporter": "python",
   "pygments_lexer": "ipython3",
   "version": "3.10.9"
  }
 },
 "nbformat": 4,
 "nbformat_minor": 2
}
